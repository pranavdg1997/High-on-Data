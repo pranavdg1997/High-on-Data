{
  "nbformat": 4,
  "nbformat_minor": 0,
  "metadata": {
    "kernelspec": {
      "name": "python3",
      "display_name": "Python 3"
    },
    "language_info": {
      "codemirror_mode": {
        "name": "ipython",
        "version": 3
      },
      "file_extension": ".py",
      "mimetype": "text/x-python",
      "name": "python",
      "nbconvert_exporter": "python",
      "pygments_lexer": "ipython3",
      "version": "3.6.8"
    },
    "colab": {
      "name": "Tweet classification.ipynb",
      "provenance": [],
      "toc_visible": true
    },
    "accelerator": "GPU"
  },
  "cells": [
    {
      "cell_type": "code",
      "metadata": {
        "id": "Imith6DlFUBA",
        "colab_type": "code",
        "colab": {}
      },
      "source": [
        "#importing basic libraries\n",
        "import numpy as np\n",
        "import pandas as pd\n",
        "import time\n",
        "import matplotlib.pyplot as plt\n",
        "import seaborn as sns\n",
        "%matplotlib inline\n",
        "\n",
        "#Importing pytorch functions and modules\n",
        "import torch\n",
        "device = torch.device(\"cuda:0\" if torch.cuda.is_available() else \"cpu\")\n",
        "print(torch.cuda.get_device_name(0))\n",
        "import torch.nn as nn\n",
        "import torch.nn.functional as F\n",
        "from torch import optim\n",
        "from torchtext import data\n",
        "from sklearn.metrics import *\n",
        "\n",
        "#Import NLP libraries\n",
        "import re\n",
        "import string\n",
        "import nltk\n",
        "nltk.download('punkt')\n",
        "nltk.download('popular')\n",
        "\n",
        "#Setting random seed for reproducibility\n",
        "SEED = 1234\n",
        "torch.manual_seed(SEED)\n",
        "np.random.seed(SEED)\n",
        "torch.backends.cudnn.deterministic = True\n",
        "torch.backends.cudnn.benchmark = False"
      ],
      "execution_count": 0,
      "outputs": []
    },
    {
      "cell_type": "markdown",
      "metadata": {
        "id": "KCdmwTA1FUBG",
        "colab_type": "text"
      },
      "source": [
        "### Functions for text processing"
      ]
    },
    {
      "cell_type": "code",
      "metadata": {
        "id": "rz55KDHNFUBH",
        "colab_type": "code",
        "colab": {}
      },
      "source": [
        "REPLACE_BY_SPACE_RE = re.compile('[/(){}\\[\\]\\|,;]^a-zA-Z#')\n",
        "BAD_SYMBOLS_RE = re.compile('[^0-9a-z #+_]')\n",
        "\n",
        "def remove_pattern(input_txt, pattern):\n",
        "    r = re.findall(pattern, input_txt)\n",
        "    for i in r:\n",
        "        input_txt = re.sub(i, '', input_txt)\n",
        "        \n",
        "    return input_txt    \n",
        "  \n",
        "contraction_dict = {\"ain't\": \"is not\", \"aren't\": \"are not\",\"can't\": \"cannot\", \"'cause\": \"because\", \"could've\": \"could have\", \"couldn't\": \"could not\",\n",
        "                    \"didn't\": \"did not\",  \"doesn't\": \"does not\", \"don't\": \"do not\", \"hadn't\": \"had not\", \"hasn't\": \"has not\", \"haven't\": \"have not\", \n",
        "                    \"he'd\": \"he would\",\"he'll\": \"he will\", \"he's\": \"he is\", \"how'd\": \"how did\", \"how'd'y\": \"how do you\", \"how'll\": \"how will\", \"how's\": \"how is\",  \n",
        "                    \"I'd\": \"I would\", \"I'd've\": \"I would have\", \"I'll\": \"I will\", \"I'll've\": \"I will have\",\"I'm\": \"I am\", \"I've\": \"I have\", \"i'd\": \"i would\", \n",
        "                    \"i'd've\": \"i would have\", \"i'll\": \"i will\",  \"i'll've\": \"i will have\",\"i'm\": \"i am\", \"i've\": \"i have\", \"isn't\": \"is not\", \"it'd\": \"it would\", \n",
        "                    \"it'd've\": \"it would have\", \"it'll\": \"it will\", \"it'll've\": \"it will have\",\"it's\": \"it is\", \"let's\": \"let us\", \"ma'am\": \"madam\", \"mayn't\": \"may not\",\n",
        "                    \"might've\": \"might have\",\"mightn't\": \"might not\",\"mightn't've\": \"might not have\", \"must've\": \"must have\", \"mustn't\": \"must not\", \n",
        "                    \"mustn't've\": \"must not have\", \"needn't\": \"need not\", \"needn't've\": \"need not have\",\"o'clock\": \"of the clock\", \"oughtn't\": \"ought not\", \n",
        "                    \"oughtn't've\": \"ought not have\", \"shan't\": \"shall not\", \"sha'n't\": \"shall not\", \"shan't've\": \"shall not have\", \"she'd\": \"she would\", \n",
        "                    \"she'd've\": \"she would have\", \"she'll\": \"she will\", \"she'll've\": \"she will have\", \"she's\": \"she is\", \"should've\": \"should have\", \n",
        "                    \"shouldn't\": \"should not\", \"shouldn't've\": \"should not have\", \"so've\": \"so have\",\"so's\": \"so as\", \"this's\": \"this is\",\"that'd\": \"that would\",\n",
        "                    \"that'd've\": \"that would have\", \"that's\": \"that is\", \"there'd\": \"there would\", \"there'd've\": \"there would have\", \"there's\": \"there is\", \n",
        "                    \"here's\": \"here is\",\"they'd\": \"they would\", \"they'd've\": \"they would have\", \"they'll\": \"they will\", \"they'll've\": \"they will have\", \n",
        "                    \"they're\": \"they are\", \"they've\": \"they have\", \"to've\": \"to have\", \"wasn't\": \"was not\", \"we'd\": \"we would\", \"we'd've\": \"we would have\", \n",
        "                    \"we'll\": \"we will\", \"we'll've\": \"we will have\", \"we're\": \"we are\", \"we've\": \"we have\", \"weren't\": \"were not\", \"what'll\": \"what will\", \n",
        "                    \"what'll've\": \"what will have\", \"what're\": \"what are\",  \"what's\": \"what is\", \"what've\": \"what have\", \"when's\": \"when is\", \"when've\": \"when have\", \n",
        "                    \"where'd\": \"where did\", \"where's\": \"where is\", \"where've\": \"where have\", \"who'll\": \"who will\", \"who'll've\": \"who will have\", \"who's\": \"who is\",\n",
        "                    \"who've\": \"who have\", \"why's\": \"why is\", \"why've\": \"why have\", \"will've\": \"will have\", \"won't\": \"will not\", \"won't've\": \"will not have\", \n",
        "                    \"would've\": \"would have\", \"wouldn't\": \"would not\", \"wouldn't've\": \"would not have\", \"y'all\": \"you all\", \"y'all'd\": \"you all would\",\n",
        "                    \"y'all'd've\": \"you all would have\",\"y'all're\": \"you all are\",\"y'all've\": \"you all have\",\"you'd\": \"you would\", \"you'd've\": \"you would have\", \n",
        "                    \"you'll\": \"you will\", \"you'll've\": \"you will have\", \"you're\": \"you are\", \"you've\": \"you have\"}\n",
        "\n",
        "def _get_contractions(contraction_dict):\n",
        "    contraction_re = re.compile('(%s)' % '|'.join(contraction_dict.keys()))\n",
        "    return contraction_dict, contraction_re\n",
        "\n",
        "contractions, contractions_re = _get_contractions(contraction_dict)\n",
        "\n",
        "def replace_contractions(text):\n",
        "    def replace(match):\n",
        "        return contractions[match.group(0)]\n",
        "    return contractions_re.sub(replace, text)\n",
        "\n",
        "# Usage\n",
        "replace_contractions(\"this's a text with contraction\")\n",
        "    \n",
        "\n",
        "\n",
        "def custom_tokenizer(text):\n",
        "    \"\"\"\n",
        "        text: a string\n",
        "        \n",
        "        return: modified, pre-processed tokens\n",
        "    \"\"\"\n",
        "    text = ' '.join(text.split())\n",
        "    #print(text)\n",
        "    text = text.lower() # lowercase text\n",
        "    #print(text)\n",
        "    text = ' '.join(word for word in text.split() if not(word.startswith('@')))\n",
        "    text = ' '.join(word for word in text.split() if not(word.startswith('http')))\n",
        "    text = REPLACE_BY_SPACE_RE.sub(' ', text) # replace REPLACE_BY_SPACE_RE symbols by space in text\n",
        "    #print(text)\n",
        "    text = BAD_SYMBOLS_RE.sub('', text) # delete symbols which are in BAD_SYMBOLS_RE from text\n",
        "\n",
        "    text = ' '.join([word for word in text.split() if len(word)> 3]) # delete short words\n",
        "    text = ' '.join([word.replace(\"#\",'') for word in text.split() if len(word)> 3])\n",
        "    text = replace_contractions(text)\n",
        "    if(len(text.split())==0):\n",
        "      text = \"blank\"\n",
        "\n",
        "    return text.split()\n",
        "  \n",
        "def to_float_array(str):\n",
        "  str = ' '.join(str.split())\n",
        "  str = str.replace(\"[\",\"\")\n",
        "  str = str.replace(\"]\",\"\")\n",
        "  str = np.array(str.split()).astype(np.float)\n",
        "  return(str)"
      ],
      "execution_count": 0,
      "outputs": []
    },
    {
      "cell_type": "code",
      "metadata": {
        "id": "LlCuk93fFUBJ",
        "colab_type": "code",
        "outputId": "5cf3edaa-da2a-42d5-a010-c3cdf0f90af1",
        "colab": {
          "base_uri": "https://localhost:8080/",
          "height": 204
        }
      },
      "source": [
        "labelled_tweets = pd.read_csv(\"labelled_tweets_twint.csv\")[[\"id\",\"drug_user\",\"tweet\"]].dropna()\n",
        "labelled_tweets.head()"
      ],
      "execution_count": 0,
      "outputs": [
        {
          "output_type": "execute_result",
          "data": {
            "text/html": [
              "<div>\n",
              "<style scoped>\n",
              "    .dataframe tbody tr th:only-of-type {\n",
              "        vertical-align: middle;\n",
              "    }\n",
              "\n",
              "    .dataframe tbody tr th {\n",
              "        vertical-align: top;\n",
              "    }\n",
              "\n",
              "    .dataframe thead th {\n",
              "        text-align: right;\n",
              "    }\n",
              "</style>\n",
              "<table border=\"1\" class=\"dataframe\">\n",
              "  <thead>\n",
              "    <tr style=\"text-align: right;\">\n",
              "      <th></th>\n",
              "      <th>id</th>\n",
              "      <th>drug_user</th>\n",
              "      <th>tweet</th>\n",
              "    </tr>\n",
              "  </thead>\n",
              "  <tbody>\n",
              "    <tr>\n",
              "      <th>0</th>\n",
              "      <td>1.172183e+18</td>\n",
              "      <td>1.0</td>\n",
              "      <td>Again? Again? Codeine no dey quick clear for b...</td>\n",
              "    </tr>\n",
              "    <tr>\n",
              "      <th>1</th>\n",
              "      <td>1.172175e+18</td>\n",
              "      <td>0.0</td>\n",
              "      <td>At least he doesn’t play Codeine, though.</td>\n",
              "    </tr>\n",
              "    <tr>\n",
              "      <th>2</th>\n",
              "      <td>1.171842e+18</td>\n",
              "      <td>1.0</td>\n",
              "      <td>Yeah, have you tried oxy tho? Or Vicodin? Or t...</td>\n",
              "    </tr>\n",
              "    <tr>\n",
              "      <th>3</th>\n",
              "      <td>1.170154e+18</td>\n",
              "      <td>0.0</td>\n",
              "      <td>At the store currently, will be doing an IRL s...</td>\n",
              "    </tr>\n",
              "    <tr>\n",
              "      <th>4</th>\n",
              "      <td>1.172236e+18</td>\n",
              "      <td>0.0</td>\n",
              "      <td>They are also the organizers of an upcoming ev...</td>\n",
              "    </tr>\n",
              "  </tbody>\n",
              "</table>\n",
              "</div>"
            ],
            "text/plain": [
              "             id  drug_user                                              tweet\n",
              "0  1.172183e+18        1.0  Again? Again? Codeine no dey quick clear for b...\n",
              "1  1.172175e+18        0.0          At least he doesn’t play Codeine, though.\n",
              "2  1.171842e+18        1.0  Yeah, have you tried oxy tho? Or Vicodin? Or t...\n",
              "3  1.170154e+18        0.0  At the store currently, will be doing an IRL s...\n",
              "4  1.172236e+18        0.0  They are also the organizers of an upcoming ev..."
            ]
          },
          "metadata": {
            "tags": []
          },
          "execution_count": 5
        }
      ]
    },
    {
      "cell_type": "code",
      "metadata": {
        "id": "_Prpqt1DFUBN",
        "colab_type": "code",
        "outputId": "c4596f7a-2e4a-4a91-cce5-e6961dfc8e4f",
        "colab": {
          "base_uri": "https://localhost:8080/",
          "height": 153
        }
      },
      "source": [
        "labelled_tweets.info()"
      ],
      "execution_count": 0,
      "outputs": [
        {
          "output_type": "stream",
          "text": [
            "<class 'pandas.core.frame.DataFrame'>\n",
            "Int64Index: 493 entries, 0 to 4007\n",
            "Data columns (total 3 columns):\n",
            "id           493 non-null float64\n",
            "drug_user    493 non-null float64\n",
            "tweet        493 non-null object\n",
            "dtypes: float64(2), object(1)\n",
            "memory usage: 15.4+ KB\n"
          ],
          "name": "stdout"
        }
      ]
    },
    {
      "cell_type": "code",
      "metadata": {
        "id": "2yt7D3TzFUBP",
        "colab_type": "code",
        "colab": {}
      },
      "source": [
        "from sklearn.model_selection import train_test_split\n",
        "train_data,val_data,_,_ = train_test_split(labelled_tweets,labelled_tweets[\"drug_user\"],\n",
        "                                           stratify=labelled_tweets[\"drug_user\"].values,test_size=0.25)"
      ],
      "execution_count": 0,
      "outputs": []
    },
    {
      "cell_type": "code",
      "metadata": {
        "id": "EtXGbNM8FUBS",
        "colab_type": "code",
        "colab": {}
      },
      "source": [
        "train_data.to_csv(\"train_data.csv\",index=False)\n",
        "val_data.to_csv(\"val_data.csv\",index=False)"
      ],
      "execution_count": 0,
      "outputs": []
    },
    {
      "cell_type": "code",
      "metadata": {
        "id": "aTznJBkqFUBU",
        "colab_type": "code",
        "outputId": "0355eec5-62be-4420-90c9-f05660edea7d",
        "colab": {
          "base_uri": "https://localhost:8080/",
          "height": 51
        }
      },
      "source": [
        "TWEET = data.Field(sequential=True, tokenize=custom_tokenizer, lower=True,include_lengths = True)\n",
        "LABEL = data.LabelField(sequential=False, use_vocab=True,pad_token=None,unk_token=None)\n",
        "\n",
        "\n",
        "fields = [(None, None), ('l', LABEL), ('t', TWEET)]\n",
        "\n",
        "train_data, valid_data = data.TabularDataset.splits(\n",
        "                                        path = '',\n",
        "                                        train = 'train_data.csv',\n",
        "                                        validation = 'val_data.csv',\n",
        "                                        format = 'csv',\n",
        "                                        fields = fields,\n",
        "                                        skip_header = True\n",
        ")\n",
        "\n",
        "MAX_VOCAB_SIZE = 25000\n",
        "\n",
        "TWEET.build_vocab(train_data, \n",
        "                 max_size = MAX_VOCAB_SIZE, \n",
        "                 vectors = \"glove.6B.100d\", \n",
        "                 unk_init = torch.Tensor.normal_)\n",
        "LABEL.build_vocab(train_data)\n",
        "print(\"Unique tokens in TWEET vocabulary: \",len(TWEET.vocab))\n",
        "print(\"Unique tokens in LABEL vocabulary: \",len(LABEL.vocab))\n",
        "\n",
        "BATCH_SIZE = 128\n",
        "\n",
        "device = torch.device('cuda' if torch.cuda.is_available() else 'cpu')\n",
        "\n",
        "\n",
        "train_iterator, valid_iterator = data.BucketIterator.splits(\n",
        "    (train_data, valid_data), \n",
        "    batch_size = BATCH_SIZE,\n",
        "    sort_key=lambda x:len(x.t),\n",
        "    sort=True,\n",
        "    device = device)"
      ],
      "execution_count": 0,
      "outputs": [
        {
          "output_type": "stream",
          "text": [
            "Unique tokens in TWEET vocabulary:  2064\n",
            "Unique tokens in LABEL vocabulary:  2\n"
          ],
          "name": "stdout"
        }
      ]
    },
    {
      "cell_type": "code",
      "metadata": {
        "id": "q5mYHHpYFUBX",
        "colab_type": "code",
        "colab": {}
      },
      "source": [
        "class BI_LSTM_VANILLA(nn.Module):\n",
        "    def __init__(self, vocab_size, embedding_dim, hidden_dim, output_dim, n_layers, \n",
        "                 bidirectional, dropout, pad_idx):\n",
        "        \n",
        "        super().__init__()\n",
        "        \n",
        "        self.embedding = nn.Embedding(vocab_size, embedding_dim, padding_idx = pad_idx)\n",
        "        \n",
        "        self.rnn = nn.LSTM(embedding_dim, \n",
        "                           hidden_dim, \n",
        "                           num_layers=n_layers, \n",
        "                           bidirectional=bidirectional, \n",
        "                           dropout=dropout)\n",
        "        \n",
        "        self.fc = nn.Linear(hidden_dim * 2, output_dim)\n",
        "        \n",
        "        self.dropout = nn.Dropout(dropout)\n",
        "        \n",
        "    def forward(self, text, text_lengths):\n",
        "\n",
        "        \n",
        "        embedded = self.dropout(self.embedding(text))\n",
        "        packed_embedded = nn.utils.rnn.pack_padded_sequence(embedded, text_lengths)#,enforce_sorted=False)\n",
        "        packed_output, (hidden, cell) = self.rnn(packed_embedded)\n",
        "        output, output_lengths = nn.utils.rnn.pad_packed_sequence(packed_output)\n",
        "        hidden = self.dropout(torch.cat((hidden[-2,:,:], hidden[-1,:,:]), dim = 1))       \n",
        "        return torch.sigmoid(self.fc(hidden.squeeze()))\n",
        "      \n",
        "\n",
        "\n",
        "def binary_accuracy(preds, y):\n",
        "    y_true = y.detach().cpu()\n",
        "    y_pred = torch.round(preds).detach().cpu()\n",
        "    acc = accuracy_score(y_true,y_pred)\n",
        "    return acc\n",
        "\n",
        "def count_parameters(model):\n",
        "    return sum(p.numel() for p in model.parameters() if p.requires_grad)\n",
        "\n",
        "\n",
        "\n",
        "def train(model, iterator, optimizer, criterion):\n",
        "    \n",
        "    epoch_loss = 0\n",
        "    epoch_acc = 0\n",
        "    #print(0)\n",
        "    model.train()\n",
        "    #print(1)\n",
        "    for batch in iterator:\n",
        "        \n",
        "        optimizer.zero_grad()\n",
        "        \n",
        "        text, text_lengths = batch.t\n",
        "        #print(2)\n",
        "        predictions = model(text, text_lengths).squeeze(1)\n",
        "        \n",
        "        \n",
        "        loss = criterion(predictions.type(torch.float), batch.l.type(torch.float))\n",
        "        \n",
        "        acc = binary_accuracy(predictions, batch.l)\n",
        "        \n",
        "        loss.backward()\n",
        "        \n",
        "        optimizer.step()\n",
        "        \n",
        "        epoch_loss += loss.item()\n",
        "        epoch_acc += acc.item()\n",
        "    #print(\"training done\")    \n",
        "    return epoch_loss / len(iterator), epoch_acc / len(iterator)\n",
        "def evaluate(model, iterator, criterion):\n",
        "    \n",
        "    epoch_loss = 0\n",
        "    epoch_acc = 0\n",
        "    \n",
        "    model.eval()\n",
        "    \n",
        "    with torch.no_grad():\n",
        "    \n",
        "        for batch in iterator:\n",
        "\n",
        "            text, text_lengths = batch.t\n",
        "\n",
        "            \n",
        "            predictions = model(text, text_lengths).squeeze(1)\n",
        "            \n",
        "            loss = criterion(predictions.type(torch.float), batch.l.type(torch.float))\n",
        "            \n",
        "            acc = binary_accuracy(predictions, batch.l)\n",
        "\n",
        "            epoch_loss += loss.item()\n",
        "            epoch_acc += acc.item()\n",
        "    #print(\"evaluation done\")\n",
        "        \n",
        "    return epoch_loss / len(iterator), epoch_acc / len(iterator)\n",
        "  \n",
        "\n",
        "\n",
        "def epoch_time(start_time, end_time):\n",
        "    elapsed_time = end_time - start_time\n",
        "    elapsed_mins = int(elapsed_time / 60)\n",
        "    elapsed_secs = int(elapsed_time - (elapsed_mins * 60))\n",
        "    return elapsed_mins, elapsed_secs\n",
        "\n",
        "\n"
      ],
      "execution_count": 0,
      "outputs": []
    },
    {
      "cell_type": "code",
      "metadata": {
        "id": "_WYADYOWFUBZ",
        "colab_type": "code",
        "outputId": "185a8d99-cddf-485c-b3dd-e38b1260aa8f",
        "colab": {
          "base_uri": "https://localhost:8080/",
          "height": 255
        }
      },
      "source": [
        "INPUT_DIM = len(TWEET.vocab)\n",
        "EMBEDDING_DIM = 100\n",
        "HIDDEN_DIM = 128\n",
        "OUTPUT_DIM = 1\n",
        "N_LAYERS = 2\n",
        "BIDIRECTIONAL = True\n",
        "DROPOUT = 0.5\n",
        "LR = 0.0001\n",
        "PAD_IDX = TWEET.vocab.stoi[TWEET.pad_token]\n",
        "\n",
        "model = BI_LSTM_VANILLA(INPUT_DIM, \n",
        "            EMBEDDING_DIM, \n",
        "            HIDDEN_DIM, \n",
        "            OUTPUT_DIM, \n",
        "            N_LAYERS, \n",
        "            BIDIRECTIONAL, \n",
        "            DROPOUT, \n",
        "            PAD_IDX).to(device)\n",
        "print(f'The model has {count_parameters(model):,} trainable parameters')\n",
        "\n",
        "pretrained_embeddings = TWEET.vocab.vectors\n",
        "model.embedding.weight.data.copy_(pretrained_embeddings)\n",
        "UNK_IDX = TWEET.vocab.stoi[TWEET.unk_token]\n",
        "model.embedding.weight.data[UNK_IDX] = torch.zeros(EMBEDDING_DIM)\n",
        "model.embedding.weight.data[PAD_IDX] = torch.zeros(EMBEDDING_DIM)\n",
        "\n",
        "optimizer = optim.Adam(model.parameters(),lr=LR)\n",
        "criterion = nn.BCELoss()\n",
        "\n",
        "\n",
        "N_EPOCHS = 200\n",
        "EARLY_STOPPING_ROUNDS = 2\n",
        "curr_rounds = 0\n",
        "best_valid_acc = (-1)*float('inf')\n",
        "epoch = 0\n",
        "overfitting = False\n",
        "\n",
        "while((epoch < N_EPOCHS)&(overfitting==False)):\n",
        "    start_time = time.time()\n",
        "    \n",
        "    train_loss, train_acc = train(model, train_iterator, optimizer, criterion)\n",
        "    valid_loss, valid_acc = evaluate(model, valid_iterator, criterion)\n",
        "    \n",
        "    if(valid_acc > best_valid_acc):\n",
        "        best_valid_acc = valid_acc\n",
        "        curr_rounds = 0\n",
        "    else:\n",
        "        curr_rounds +=1\n",
        "        if(curr_rounds==EARLY_STOPPING_ROUNDS):\n",
        "            overfitting=True\n",
        "            print(\"Overfitting, stopping after this epoch\")\n",
        "\n",
        "    \n",
        "    end_time = time.time()\n",
        "\n",
        "    epoch_mins, epoch_secs = epoch_time(start_time, end_time)\n",
        "\n",
        "    \n",
        "    if(epoch%10==0):\n",
        "        print(f'Epoch: {epoch+1:02} | Epoch Time: {epoch_mins}m {epoch_secs}s')\n",
        "        print(f'\\tTrain Loss: {train_loss:.3f} | Train Acc: {train_acc*100:.2f}%')\n",
        "        print(f'\\t Val. Loss: {valid_loss:.3f} |  Val. Acc: {valid_acc*100:.2f}%')"
      ],
      "execution_count": 0,
      "outputs": [
        {
          "output_type": "stream",
          "text": [
            "The model has 837,441 trainable parameters\n",
            "Epoch: 01 | Epoch Time: 0m 0s\n",
            "\tTrain Loss: 0.688 | Train Acc: 59.17%\n",
            "\t Val. Loss: 0.689 |  Val. Acc: 62.90%\n",
            "Epoch: 01 | Epoch Time: 0m 0s\n",
            "\tTrain Loss: 0.689 | Train Acc: 58.62%\n",
            "\t Val. Loss: 0.687 |  Val. Acc: 63.71%\n",
            "Epoch: 01 | Epoch Time: 0m 0s\n",
            "\tTrain Loss: 0.684 | Train Acc: 62.32%\n",
            "\t Val. Loss: 0.685 |  Val. Acc: 63.71%\n",
            "Overfitting, stopping after this epoch\n",
            "Epoch: 01 | Epoch Time: 0m 0s\n",
            "\tTrain Loss: 0.684 | Train Acc: 62.54%\n",
            "\t Val. Loss: 0.682 |  Val. Acc: 63.71%\n"
          ],
          "name": "stdout"
        }
      ]
    },
    {
      "cell_type": "code",
      "metadata": {
        "id": "dC0qBEIYFUBc",
        "colab_type": "code",
        "colab": {}
      },
      "source": [
        "def predict_sentiment(model, sentence):\n",
        "    model.eval()\n",
        "    tokenized = [tok for tok in custom_tokenizer(sentence)]\n",
        "    indexed = [TWEET.vocab.stoi[t] for t in tokenized]\n",
        "    length = [len(indexed)]\n",
        "    tensor = torch.LongTensor(indexed).to(device)\n",
        "    tensor = tensor.unsqueeze(1)\n",
        "    length_tensor = torch.LongTensor(length)\n",
        "    prediction = model(tensor, length_tensor)\n",
        "    prob = prediction.item()\n",
        "    return(round(prob,3))"
      ],
      "execution_count": 0,
      "outputs": []
    },
    {
      "cell_type": "code",
      "metadata": {
        "id": "kexrYzpKFUBe",
        "colab_type": "code",
        "colab": {}
      },
      "source": [
        "scraped_tweets = pd.read_csv(\"scraped_tweets_twint.csv\")\n",
        "scraped_tweets[\"drug_use_probability\"] = scraped_tweets[\"tweet\"].apply(lambda x:predict_sentiment(model,x))\n",
        "scraped_tweets.to_csv(\"drug_use_predictions.csv\",index=False)"
      ],
      "execution_count": 0,
      "outputs": []
    },
    {
      "cell_type": "code",
      "metadata": {
        "id": "LF0Bsb7vFUBg",
        "colab_type": "code",
        "outputId": "21993c8a-4345-420e-d1e9-478fcf326594",
        "colab": {
          "base_uri": "https://localhost:8080/",
          "height": 297
        }
      },
      "source": [
        "plt.figure()\n",
        "sns.distplot(scraped_tweets[\"drug_use_probability\"])"
      ],
      "execution_count": 0,
      "outputs": [
        {
          "output_type": "execute_result",
          "data": {
            "text/plain": [
              "<matplotlib.axes._subplots.AxesSubplot at 0x7fdf7bad0fd0>"
            ]
          },
          "metadata": {
            "tags": []
          },
          "execution_count": 23
        },
        {
          "output_type": "display_data",
          "data": {
            "image/png": "[encoded data removed]",
            "text/plain": [
              "<Figure size 432x288 with 1 Axes>"
            ]
          },
          "metadata": {
            "tags": []
          }
        }
      ]
    },
    {
      "cell_type": "code",
      "metadata": {
        "id": "tA5wTsPfK7I5",
        "colab_type": "code",
        "colab": {}
      },
      "source": [
        ""
      ],
      "execution_count": 0,
      "outputs": []
    }
  ]
}